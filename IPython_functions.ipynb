{
 "cells": [
  {
   "cell_type": "code",
   "execution_count": 1,
   "metadata": {
    "collapsed": false
   },
   "outputs": [],
   "source": [
    "import hydropy as hp"
   ]
  },
  {
   "cell_type": "code",
   "execution_count": 2,
   "metadata": {
    "collapsed": false
   },
   "outputs": [
    {
     "data": {
      "text/html": [
       "<p>Use <a href=\"http://hydrocloud.org\" target=\"_blank\">HydroCloud.org</a> to find a stream gauge. Click on the red dots to learn more about a site.</p><iframe src=http://hydrocloud.org/ width=800 height=400></iframe>"
      ],
      "text/plain": [
       "<IPython.core.display.HTML object>"
      ]
     },
     "execution_count": 2,
     "metadata": {},
     "output_type": "execute_result"
    }
   ],
   "source": [
    "hp.draw_map(width=800)"
   ]
  },
  {
   "cell_type": "code",
   "execution_count": 3,
   "metadata": {
    "collapsed": false
   },
   "outputs": [
    {
     "name": "stdout",
     "output_type": "stream",
     "text": [
      "Help on function draw_map in module hydropy.ipython:\n",
      "\n",
      "draw_map(width=700, height=400)\n",
      "    Draw an interactive map from hydrocloud.org.\n",
      "    \n",
      "    Places a map of USGS stream gauges from hydrocloud.org into an IFrame and\n",
      "    displays it in an IPython interactive session.  To use the map, click on\n",
      "    the red dots to display information about each USGS stream gauge.\n",
      "    \n",
      "    Args:\n",
      "    -----\n",
      "        width (int): The width of the map iframe.\n",
      "        height (int): The height of the map iframe.\n",
      "    \n",
      "    Returns:\n",
      "    --------\n",
      "        HTML display object.\n",
      "    \n",
      "    Example:\n",
      "    --------\n",
      "        >>> import hydropy as hp\n",
      "        >>> hp.draw_map()\n",
      "        A map is drawn.\n",
      "    \n",
      "        >>> hp.draw_map(width=900, height=600)\n",
      "        A big map is drawn!\n",
      "    \n",
      "    TODO:\n",
      "    -----\n",
      "        - use ipywidgets to allow users to click on the map, and this will\n",
      "            return a value that can be used in another IPython cell. This\n",
      "            feature would allow the map to act as an interactive site selection\n",
      "            tool.\n",
      "\n"
     ]
    }
   ],
   "source": [
    "help(hp.draw_map)"
   ]
  },
  {
   "cell_type": "code",
   "execution_count": 4,
   "metadata": {
    "collapsed": false
   },
   "outputs": [],
   "source": [
    "hp.draw_map?\n",
    "\n",
    "    \n"
   ]
  },
  {
   "cell_type": "code",
   "execution_count": 5,
   "metadata": {
    "collapsed": false
   },
   "outputs": [
    {
     "name": "stdout",
     "output_type": "stream",
     "text": [
      "Help on package hydropy:\n",
      "\n",
      "NAME\n",
      "    hydropy - # Hydropy\n",
      "\n",
      "DESCRIPTION\n",
      "    Analysis of hydrological oriented time series.\n",
      "    \n",
      "    This package is especially designed to simplify the collection and analysis of\n",
      "    hydrology data in an interpretive Python session.  Use HydroPy in a Jupyter\n",
      "    notebook and save your analysis so that you can recreate your procedures and\n",
      "    share them with others.  \n",
      "    \n",
      "    Hydropy uses the power of Numpy and Pandas to quickly process large datasets.\n",
      "    \n",
      "    Matplotlib and Seaborn are built-in to Hydropy, allowing you to create\n",
      "    publication-ready diagrams quickly and easily.\n",
      "    \n",
      "    Try Hydropy in a notebook: hydropy_tutorial.ipynb\n",
      "    \n",
      "    Hydropy is available through [Github](https://github.com/stijnvanhoey/hydropy)\n",
      "    and [PyPI](https://pypi.python.org/pypi/hydropy). The easiest way to use it is\n",
      "    with the Anaconda scientific distribution. If you have Anaconda, or if you\n",
      "    already have numpy, pandas, and matplotlib installed, then use Pip to install\n",
      "    hydropy like this::\n",
      "    \n",
      "        $ pip install hydropy\n",
      "    \n",
      "    ## Basic Usage::\n",
      "    \n",
      "        >>> import numpy as np\n",
      "        >>> import pandas as pd\n",
      "    \n",
      "        >>> import hydropy as hp\n",
      "        >>> flowdata = pd.read_pickle(\"./data/FlowData\")\n",
      "        >>> flowdata.head()\n",
      "    \n",
      "        >>> myflowserie = hp.HydroAnalysis(flowdata)\n",
      "        >>> myflowserie.get_year('2009').get_season('summer').plot(figsize=(12,6))\n",
      "\n",
      "PACKAGE CONTENTS\n",
      "    baseflow\n",
      "    composition\n",
      "    exceptions\n",
      "    flowanalysis\n",
      "    ipython\n",
      "    old_tests\n",
      "    reading_third_party_data\n",
      "    storm\n",
      "\n",
      "DATA\n",
      "    __license__ = 'BSD'\n",
      "    __title__ = 'hydropy'\n",
      "    absolute_import = _Feature((2, 5, 0, 'alpha', 1), (3, 0, 0, 'alpha', 0...\n",
      "    print_function = _Feature((2, 6, 0, 'alpha', 2), (3, 0, 0, 'alpha', 0)...\n",
      "\n",
      "FILE\n",
      "    c:\\users\\marty\\google drive\\pydev\\src\\hydropy\\hydropy\\__init__.py\n",
      "\n",
      "\n"
     ]
    }
   ],
   "source": [
    "help(hp)"
   ]
  },
  {
   "cell_type": "code",
   "execution_count": 6,
   "metadata": {
    "collapsed": false
   },
   "outputs": [],
   "source": [
    "hp?"
   ]
  }
 ],
 "metadata": {
  "kernelspec": {
   "display_name": "Python 3",
   "language": "python",
   "name": "python3"
  },
  "language_info": {
   "codemirror_mode": {
    "name": "ipython",
    "version": 3
   },
   "file_extension": ".py",
   "mimetype": "text/x-python",
   "name": "python",
   "nbconvert_exporter": "python",
   "pygments_lexer": "ipython3",
   "version": "3.5.2"
  }
 },
 "nbformat": 4,
 "nbformat_minor": 0
}
