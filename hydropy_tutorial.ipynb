{
 "metadata": {
  "name": "",
  "signature": "sha256:463a3ce93071bcf9af50d794a41263ba492392eba9dfa505aca0a8d1146afabd"
 },
 "nbformat": 3,
 "nbformat_minor": 0,
 "worksheets": [
  {
   "cells": [
    {
     "cell_type": "code",
     "collapsed": false,
     "input": [
      "%matplotlib inline"
     ],
     "language": "python",
     "metadata": {},
     "outputs": [],
     "prompt_number": 1
    },
    {
     "cell_type": "heading",
     "level": 1,
     "metadata": {},
     "source": [
      "voorbeeld"
     ]
    },
    {
     "cell_type": "markdown",
     "metadata": {},
     "source": []
    },
    {
     "cell_type": "code",
     "collapsed": false,
     "input": [
      "import numpy as np\n",
      "import pandas as pd\n",
      "\n",
      "from baseflow import *\n",
      "from flowanalysis import HydroAnalysis"
     ],
     "language": "python",
     "metadata": {},
     "outputs": [],
     "prompt_number": 2
    },
    {
     "cell_type": "code",
     "collapsed": false,
     "input": [
      "flowdata = pd.read_pickle(\"FlowData\")\n",
      "raindata = pd.read_pickle(\"RainData\")\n",
      "flow2use = flowdata[\"L06_347\"]"
     ],
     "language": "python",
     "metadata": {},
     "outputs": [],
     "prompt_number": 3
    },
    {
     "cell_type": "code",
     "collapsed": false,
     "input": [
      "flowdata.head()"
     ],
     "language": "python",
     "metadata": {},
     "outputs": [
      {
       "html": [
        "<div style=\"max-height:1000px;max-width:1500px;overflow:auto;\">\n",
        "<table border=\"1\" class=\"dataframe\">\n",
        "  <thead>\n",
        "    <tr style=\"text-align: right;\">\n",
        "      <th></th>\n",
        "      <th>L06_347</th>\n",
        "      <th>LS06_347</th>\n",
        "      <th>LS06_348</th>\n",
        "      <th>LS06_34C</th>\n",
        "      <th>LS06_34D</th>\n",
        "      <th>LS06_34E</th>\n",
        "      <th>LS06_34G</th>\n",
        "    </tr>\n",
        "    <tr>\n",
        "      <th>Time</th>\n",
        "      <th></th>\n",
        "      <th></th>\n",
        "      <th></th>\n",
        "      <th></th>\n",
        "      <th></th>\n",
        "      <th></th>\n",
        "      <th></th>\n",
        "    </tr>\n",
        "  </thead>\n",
        "  <tbody>\n",
        "    <tr>\n",
        "      <th>2008-01-01 00:15:00</th>\n",
        "      <td> 0.229</td>\n",
        "      <td> 0.229</td>\n",
        "      <td> 0.021</td>\n",
        "      <td> 0.122</td>\n",
        "      <td> 0.014</td>\n",
        "      <td> 0.030</td>\n",
        "      <td>NaN</td>\n",
        "    </tr>\n",
        "    <tr>\n",
        "      <th>2008-01-01 00:30:00</th>\n",
        "      <td> 0.229</td>\n",
        "      <td> 0.229</td>\n",
        "      <td> 0.021</td>\n",
        "      <td> 0.122</td>\n",
        "      <td> 0.014</td>\n",
        "      <td> 0.029</td>\n",
        "      <td>NaN</td>\n",
        "    </tr>\n",
        "    <tr>\n",
        "      <th>2008-01-01 00:45:00</th>\n",
        "      <td> 0.229</td>\n",
        "      <td> 0.229</td>\n",
        "      <td> 0.021</td>\n",
        "      <td> 0.122</td>\n",
        "      <td> 0.014</td>\n",
        "      <td> 0.029</td>\n",
        "      <td>NaN</td>\n",
        "    </tr>\n",
        "    <tr>\n",
        "      <th>2008-01-01 01:00:00</th>\n",
        "      <td> 0.229</td>\n",
        "      <td> 0.229</td>\n",
        "      <td> 0.021</td>\n",
        "      <td> 0.122</td>\n",
        "      <td> 0.015</td>\n",
        "      <td> 0.029</td>\n",
        "      <td>NaN</td>\n",
        "    </tr>\n",
        "    <tr>\n",
        "      <th>2008-01-01 01:15:00</th>\n",
        "      <td> 0.229</td>\n",
        "      <td> 0.229</td>\n",
        "      <td> 0.021</td>\n",
        "      <td> 0.122</td>\n",
        "      <td> 0.015</td>\n",
        "      <td> 0.029</td>\n",
        "      <td>NaN</td>\n",
        "    </tr>\n",
        "  </tbody>\n",
        "</table>\n",
        "</div>"
       ],
       "metadata": {},
       "output_type": "pyout",
       "prompt_number": 4,
       "text": [
        "                     L06_347  LS06_347  LS06_348  LS06_34C  LS06_34D  \\\n",
        "Time                                                                   \n",
        "2008-01-01 00:15:00    0.229     0.229     0.021     0.122     0.014   \n",
        "2008-01-01 00:30:00    0.229     0.229     0.021     0.122     0.014   \n",
        "2008-01-01 00:45:00    0.229     0.229     0.021     0.122     0.014   \n",
        "2008-01-01 01:00:00    0.229     0.229     0.021     0.122     0.015   \n",
        "2008-01-01 01:15:00    0.229     0.229     0.021     0.122     0.015   \n",
        "\n",
        "                     LS06_34E  LS06_34G  \n",
        "Time                                     \n",
        "2008-01-01 00:15:00     0.030       NaN  \n",
        "2008-01-01 00:30:00     0.029       NaN  \n",
        "2008-01-01 00:45:00     0.029       NaN  \n",
        "2008-01-01 01:00:00     0.029       NaN  \n",
        "2008-01-01 01:15:00     0.029       NaN  "
       ]
      }
     ],
     "prompt_number": 4
    },
    {
     "cell_type": "code",
     "collapsed": false,
     "input": [
      "len(flowdata)"
     ],
     "language": "python",
     "metadata": {},
     "outputs": [
      {
       "metadata": {},
       "output_type": "pyout",
       "prompt_number": 5,
       "text": [
        "175488"
       ]
      }
     ],
     "prompt_number": 5
    },
    {
     "cell_type": "code",
     "collapsed": false,
     "input": [
      "temp = HydroAnalysis(flowdata)#, datacols=['LS06_342'])"
     ],
     "language": "python",
     "metadata": {},
     "outputs": [],
     "prompt_number": 6
    },
    {
     "cell_type": "code",
     "collapsed": false,
     "input": [
      "subset1 = temp.get_date_range(\"01/01/2010\",\"03/05/2010\")#.get_recess()"
     ],
     "language": "python",
     "metadata": {},
     "outputs": [],
     "prompt_number": 11
    },
    {
     "cell_type": "code",
     "collapsed": false,
     "input": [
      "subset1.plot()"
     ],
     "language": "python",
     "metadata": {},
     "outputs": [
      {
       "metadata": {},
       "output_type": "pyout",
       "prompt_number": 8,
       "text": [
        "<matplotlib.axes._subplots.AxesSubplot at 0x7f032a226190>"
       ]
      },
      {
       "metadata": {},
       "output_type": "display_data",
       "png": "[encoded data removed]",
       "text": [
        "<matplotlib.figure.Figure at 0x7f032a298b10>"
       ]
      }
     ],
     "prompt_number": 8
    },
    {
     "cell_type": "code",
     "collapsed": false,
     "input": [
      "temp2 = temp.frequency_resample(\"M\", \"max\")"
     ],
     "language": "python",
     "metadata": {},
     "outputs": [],
     "prompt_number": 12
    },
    {
     "cell_type": "code",
     "collapsed": false,
     "input": [
      "temp2.summary()"
     ],
     "language": "python",
     "metadata": {},
     "outputs": [
      {
       "html": [
        "<div style=\"max-height:1000px;max-width:1500px;overflow:auto;\">\n",
        "<table border=\"1\" class=\"dataframe\">\n",
        "  <thead>\n",
        "    <tr style=\"text-align: right;\">\n",
        "      <th></th>\n",
        "      <th>L06_347</th>\n",
        "      <th>LS06_347</th>\n",
        "      <th>LS06_348</th>\n",
        "      <th>LS06_34C</th>\n",
        "      <th>LS06_34D</th>\n",
        "      <th>LS06_34E</th>\n",
        "      <th>LS06_34G</th>\n",
        "    </tr>\n",
        "  </thead>\n",
        "  <tbody>\n",
        "    <tr>\n",
        "      <th>count</th>\n",
        "      <td> 61.000000</td>\n",
        "      <td> 61.000000</td>\n",
        "      <td> 61.000000</td>\n",
        "      <td> 37.000000</td>\n",
        "      <td> 61.000000</td>\n",
        "      <td> 61.000000</td>\n",
        "      <td> 33.000000</td>\n",
        "    </tr>\n",
        "    <tr>\n",
        "      <th>mean</th>\n",
        "      <td>  3.345918</td>\n",
        "      <td>  3.160426</td>\n",
        "      <td>  0.378820</td>\n",
        "      <td>  1.875541</td>\n",
        "      <td>  0.629098</td>\n",
        "      <td>  0.300508</td>\n",
        "      <td>  0.303333</td>\n",
        "    </tr>\n",
        "    <tr>\n",
        "      <th>std</th>\n",
        "      <td>  4.109903</td>\n",
        "      <td>  3.933556</td>\n",
        "      <td>  0.331501</td>\n",
        "      <td>  2.406369</td>\n",
        "      <td>  0.663772</td>\n",
        "      <td>  0.310836</td>\n",
        "      <td>  0.308263</td>\n",
        "    </tr>\n",
        "    <tr>\n",
        "      <th>min</th>\n",
        "      <td>  0.061000</td>\n",
        "      <td>  0.164000</td>\n",
        "      <td>  0.018000</td>\n",
        "      <td>  0.179000</td>\n",
        "      <td>  0.016000</td>\n",
        "      <td>  0.022000</td>\n",
        "      <td>  0.000000</td>\n",
        "    </tr>\n",
        "    <tr>\n",
        "      <th>25%</th>\n",
        "      <td>  0.644000</td>\n",
        "      <td>  0.668000</td>\n",
        "      <td>  0.142000</td>\n",
        "      <td>  0.471000</td>\n",
        "      <td>  0.148000</td>\n",
        "      <td>  0.133000</td>\n",
        "      <td>  0.011000</td>\n",
        "    </tr>\n",
        "    <tr>\n",
        "      <th>50%</th>\n",
        "      <td>  2.290000</td>\n",
        "      <td>  2.000000</td>\n",
        "      <td>  0.290000</td>\n",
        "      <td>  1.480000</td>\n",
        "      <td>  0.515000</td>\n",
        "      <td>  0.200000</td>\n",
        "      <td>  0.103000</td>\n",
        "    </tr>\n",
        "    <tr>\n",
        "      <th>75%</th>\n",
        "      <td>  4.210000</td>\n",
        "      <td>  3.880000</td>\n",
        "      <td>  0.507000</td>\n",
        "      <td>  2.240000</td>\n",
        "      <td>  0.880000</td>\n",
        "      <td>  0.324000</td>\n",
        "      <td>  0.644000</td>\n",
        "    </tr>\n",
        "    <tr>\n",
        "      <th>max</th>\n",
        "      <td> 25.900000</td>\n",
        "      <td> 25.900000</td>\n",
        "      <td>  1.400000</td>\n",
        "      <td> 13.800000</td>\n",
        "      <td>  3.720000</td>\n",
        "      <td>  1.650000</td>\n",
        "      <td>  0.691000</td>\n",
        "    </tr>\n",
        "  </tbody>\n",
        "</table>\n",
        "</div>"
       ],
       "metadata": {},
       "output_type": "pyout",
       "prompt_number": 13,
       "text": [
        "         L06_347   LS06_347   LS06_348   LS06_34C   LS06_34D   LS06_34E  \\\n",
        "count  61.000000  61.000000  61.000000  37.000000  61.000000  61.000000   \n",
        "mean    3.345918   3.160426   0.378820   1.875541   0.629098   0.300508   \n",
        "std     4.109903   3.933556   0.331501   2.406369   0.663772   0.310836   \n",
        "min     0.061000   0.164000   0.018000   0.179000   0.016000   0.022000   \n",
        "25%     0.644000   0.668000   0.142000   0.471000   0.148000   0.133000   \n",
        "50%     2.290000   2.000000   0.290000   1.480000   0.515000   0.200000   \n",
        "75%     4.210000   3.880000   0.507000   2.240000   0.880000   0.324000   \n",
        "max    25.900000  25.900000   1.400000  13.800000   3.720000   1.650000   \n",
        "\n",
        "        LS06_34G  \n",
        "count  33.000000  \n",
        "mean    0.303333  \n",
        "std     0.308263  \n",
        "min     0.000000  \n",
        "25%     0.011000  \n",
        "50%     0.103000  \n",
        "75%     0.644000  \n",
        "max     0.691000  "
       ]
      }
     ],
     "prompt_number": 13
    },
    {
     "cell_type": "code",
     "collapsed": false,
     "input": [],
     "language": "python",
     "metadata": {},
     "outputs": [],
     "prompt_number": 10
    }
   ],
   "metadata": {}
  }
 ]
}