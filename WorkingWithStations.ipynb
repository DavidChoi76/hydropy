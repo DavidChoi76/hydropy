{
 "cells": [
  {
   "cell_type": "code",
   "execution_count": 1,
   "metadata": {
    "collapsed": false
   },
   "outputs": [],
   "source": [
    "import numpy as np\n",
    "import pandas as pd\n",
    "import hydropy as hp"
   ]
  },
  {
   "cell_type": "code",
   "execution_count": 2,
   "metadata": {
    "collapsed": false
   },
   "outputs": [
    {
     "name": "stdout",
     "output_type": "stream",
     "text": [
      "Not able to interpret the time serie frequency,                      run the frequency_change to define the frequency!\n"
     ]
    }
   ],
   "source": [
    "HerringRun = hp.Station('usgs01585200').fetch()"
   ]
  },
  {
   "cell_type": "code",
   "execution_count": 3,
   "metadata": {
    "collapsed": false
   },
   "outputs": [
    {
     "name": "stdout",
     "output_type": "stream",
     "text": [
      "<hydropy.composition.Station object at 0x0000022AE3BBD940>\n"
     ]
    }
   ],
   "source": [
    "print(HerringRun)"
   ]
  },
  {
   "cell_type": "code",
   "execution_count": 4,
   "metadata": {
    "collapsed": false
   },
   "outputs": [
    {
     "data": {
      "text/plain": [
       "Data columns value, \n",
       " ranging from 00:00:00 31/10/2016 until 00:00:00 31/10/2016\n",
       " with only one value."
      ]
     },
     "execution_count": 4,
     "metadata": {},
     "output_type": "execute_result"
    }
   ],
   "source": [
    "HerringRun.data"
   ]
  },
  {
   "cell_type": "code",
   "execution_count": 5,
   "metadata": {
    "collapsed": false
   },
   "outputs": [
    {
     "data": {
      "text/html": [
       "<div>\n",
       "<table border=\"1\" class=\"dataframe\">\n",
       "  <thead>\n",
       "    <tr style=\"text-align: right;\">\n",
       "      <th></th>\n",
       "      <th>value</th>\n",
       "      <th>season</th>\n",
       "    </tr>\n",
       "    <tr>\n",
       "      <th>datetime</th>\n",
       "      <th></th>\n",
       "      <th></th>\n",
       "    </tr>\n",
       "  </thead>\n",
       "  <tbody>\n",
       "    <tr>\n",
       "      <th>2016-10-31</th>\n",
       "      <td>0.3</td>\n",
       "      <td>Autumn</td>\n",
       "    </tr>\n",
       "  </tbody>\n",
       "</table>\n",
       "</div>"
      ],
      "text/plain": [
       "            value  season\n",
       "datetime                 \n",
       "2016-10-31    0.3  Autumn"
      ]
     },
     "execution_count": 5,
     "metadata": {},
     "output_type": "execute_result"
    }
   ],
   "source": [
    "HerringRun.dailymean.tail()"
   ]
  },
  {
   "cell_type": "code",
   "execution_count": 6,
   "metadata": {
    "collapsed": false
   },
   "outputs": [],
   "source": [
    "HR = hp.Station('usgs01585200').fetch(start='2011-06-01', end='2011-06-10')"
   ]
  },
  {
   "cell_type": "code",
   "execution_count": 7,
   "metadata": {
    "collapsed": false
   },
   "outputs": [
    {
     "data": {
      "text/plain": [
       "Data columns value, \n",
       " ranging from 00:00:00 01/06/2011 until 00:00:00 10/06/2011\n",
       " with frequency D"
      ]
     },
     "execution_count": 7,
     "metadata": {},
     "output_type": "execute_result"
    }
   ],
   "source": [
    "HR.data"
   ]
  },
  {
   "cell_type": "code",
   "execution_count": 8,
   "metadata": {
    "collapsed": false
   },
   "outputs": [
    {
     "data": {
      "text/plain": [
       "<hydropy.composition.Station at 0x22ae5ee9a58>"
      ]
     },
     "execution_count": 8,
     "metadata": {},
     "output_type": "execute_result"
    }
   ],
   "source": [
    "HR"
   ]
  },
  {
   "cell_type": "code",
   "execution_count": 9,
   "metadata": {
    "collapsed": false
   },
   "outputs": [],
   "source": [
    "joe = hp.Station('fake')"
   ]
  },
  {
   "cell_type": "code",
   "execution_count": 10,
   "metadata": {
    "collapsed": false
   },
   "outputs": [
    {
     "name": "stdout",
     "output_type": "stream",
     "text": [
      "<hydropy.composition.Station object at 0x0000022AE5EE99E8>\n"
     ]
    }
   ],
   "source": [
    "print(joe)"
   ]
  },
  {
   "cell_type": "code",
   "execution_count": 11,
   "metadata": {
    "collapsed": false
   },
   "outputs": [
    {
     "data": {
      "text/plain": [
       "<hydropy.composition.Station at 0x22ae5ee99e8>"
      ]
     },
     "execution_count": 11,
     "metadata": {},
     "output_type": "execute_result"
    }
   ],
   "source": [
    "joe"
   ]
  },
  {
   "cell_type": "code",
   "execution_count": 12,
   "metadata": {
    "collapsed": false
   },
   "outputs": [
    {
     "data": {
      "text/plain": [
       "<hydropy.composition.Station at 0x22ae3bbd940>"
      ]
     },
     "execution_count": 12,
     "metadata": {},
     "output_type": "execute_result"
    }
   ],
   "source": [
    "HerringRun"
   ]
  },
  {
   "cell_type": "code",
   "execution_count": 13,
   "metadata": {
    "collapsed": false
   },
   "outputs": [
    {
     "name": "stdout",
     "output_type": "stream",
     "text": [
      "<hydropy.composition.Station object at 0x0000022AE3BBD940>\n"
     ]
    }
   ],
   "source": [
    "print(HerringRun)"
   ]
  },
  {
   "cell_type": "code",
   "execution_count": 14,
   "metadata": {
    "collapsed": false
   },
   "outputs": [],
   "source": [
    "import pandas as pd\n",
    "import numpy as np\n",
    "newDF = pd.DataFrame(np.random.randn(10, 5))"
   ]
  },
  {
   "cell_type": "code",
   "execution_count": 15,
   "metadata": {
    "collapsed": false
   },
   "outputs": [
    {
     "data": {
      "text/html": [
       "<div>\n",
       "<table border=\"1\" class=\"dataframe\">\n",
       "  <thead>\n",
       "    <tr style=\"text-align: right;\">\n",
       "      <th></th>\n",
       "      <th>0</th>\n",
       "      <th>1</th>\n",
       "      <th>2</th>\n",
       "      <th>3</th>\n",
       "      <th>4</th>\n",
       "    </tr>\n",
       "  </thead>\n",
       "  <tbody>\n",
       "    <tr>\n",
       "      <th>0</th>\n",
       "      <td>0.407594</td>\n",
       "      <td>0.333337</td>\n",
       "      <td>1.672066</td>\n",
       "      <td>-0.477988</td>\n",
       "      <td>-0.145065</td>\n",
       "    </tr>\n",
       "    <tr>\n",
       "      <th>1</th>\n",
       "      <td>0.712394</td>\n",
       "      <td>0.281480</td>\n",
       "      <td>-1.422030</td>\n",
       "      <td>-1.247593</td>\n",
       "      <td>1.059819</td>\n",
       "    </tr>\n",
       "    <tr>\n",
       "      <th>2</th>\n",
       "      <td>-1.937451</td>\n",
       "      <td>0.063338</td>\n",
       "      <td>0.434784</td>\n",
       "      <td>0.470633</td>\n",
       "      <td>-1.427107</td>\n",
       "    </tr>\n",
       "    <tr>\n",
       "      <th>3</th>\n",
       "      <td>1.433898</td>\n",
       "      <td>-0.370814</td>\n",
       "      <td>-1.061050</td>\n",
       "      <td>1.107186</td>\n",
       "      <td>1.429296</td>\n",
       "    </tr>\n",
       "    <tr>\n",
       "      <th>4</th>\n",
       "      <td>-2.267362</td>\n",
       "      <td>-0.567306</td>\n",
       "      <td>1.399554</td>\n",
       "      <td>-1.342302</td>\n",
       "      <td>-1.276153</td>\n",
       "    </tr>\n",
       "    <tr>\n",
       "      <th>5</th>\n",
       "      <td>1.091353</td>\n",
       "      <td>-0.031216</td>\n",
       "      <td>2.543552</td>\n",
       "      <td>-0.495062</td>\n",
       "      <td>-0.130177</td>\n",
       "    </tr>\n",
       "    <tr>\n",
       "      <th>6</th>\n",
       "      <td>-0.257648</td>\n",
       "      <td>0.008641</td>\n",
       "      <td>-0.348822</td>\n",
       "      <td>-0.242560</td>\n",
       "      <td>0.256477</td>\n",
       "    </tr>\n",
       "    <tr>\n",
       "      <th>7</th>\n",
       "      <td>-1.595995</td>\n",
       "      <td>-2.434254</td>\n",
       "      <td>-1.467182</td>\n",
       "      <td>0.411161</td>\n",
       "      <td>-0.137307</td>\n",
       "    </tr>\n",
       "    <tr>\n",
       "      <th>8</th>\n",
       "      <td>-0.647540</td>\n",
       "      <td>1.554536</td>\n",
       "      <td>0.016187</td>\n",
       "      <td>-2.286022</td>\n",
       "      <td>-0.927384</td>\n",
       "    </tr>\n",
       "    <tr>\n",
       "      <th>9</th>\n",
       "      <td>1.683489</td>\n",
       "      <td>-0.716261</td>\n",
       "      <td>1.476004</td>\n",
       "      <td>-0.642650</td>\n",
       "      <td>0.160758</td>\n",
       "    </tr>\n",
       "  </tbody>\n",
       "</table>\n",
       "</div>"
      ],
      "text/plain": [
       "          0         1         2         3         4\n",
       "0  0.407594  0.333337  1.672066 -0.477988 -0.145065\n",
       "1  0.712394  0.281480 -1.422030 -1.247593  1.059819\n",
       "2 -1.937451  0.063338  0.434784  0.470633 -1.427107\n",
       "3  1.433898 -0.370814 -1.061050  1.107186  1.429296\n",
       "4 -2.267362 -0.567306  1.399554 -1.342302 -1.276153\n",
       "5  1.091353 -0.031216  2.543552 -0.495062 -0.130177\n",
       "6 -0.257648  0.008641 -0.348822 -0.242560  0.256477\n",
       "7 -1.595995 -2.434254 -1.467182  0.411161 -0.137307\n",
       "8 -0.647540  1.554536  0.016187 -2.286022 -0.927384\n",
       "9  1.683489 -0.716261  1.476004 -0.642650  0.160758"
      ]
     },
     "execution_count": 15,
     "metadata": {},
     "output_type": "execute_result"
    }
   ],
   "source": [
    "newDF"
   ]
  },
  {
   "cell_type": "code",
   "execution_count": 16,
   "metadata": {
    "collapsed": false
   },
   "outputs": [
    {
     "name": "stdout",
     "output_type": "stream",
     "text": [
      "Not able to interpret the time serie frequency,                      run the frequency_change to define the frequency!\n",
      "Not able to interpret the time serie frequency,                      run the frequency_change to define the frequency!\n"
     ]
    }
   ],
   "source": [
    "test = hp.Analysis(['usgs01585200', 'usgs01581500'], source='usgs-dv')"
   ]
  },
  {
   "cell_type": "code",
   "execution_count": null,
   "metadata": {
    "collapsed": true
   },
   "outputs": [],
   "source": []
  },
  {
   "cell_type": "code",
   "execution_count": 17,
   "metadata": {
    "collapsed": false
   },
   "outputs": [
    {
     "data": {
      "text/plain": [
       "<hydropy.composition.Analysis at 0x22ae5f23be0>"
      ]
     },
     "execution_count": 17,
     "metadata": {},
     "output_type": "execute_result"
    }
   ],
   "source": [
    "test"
   ]
  },
  {
   "cell_type": "code",
   "execution_count": 18,
   "metadata": {
    "collapsed": false
   },
   "outputs": [
    {
     "data": {
      "text/plain": [
       "<class 'pandas.core.panel.Panel'>\n",
       "Dimensions: 2 (items) x 1 (major_axis) x 2 (minor_axis)\n",
       "Items axis: usgs01581500 to usgs01585200\n",
       "Major_axis axis: 2016-10-31 00:00:00 to 2016-10-31 00:00:00\n",
       "Minor_axis axis: value to season"
      ]
     },
     "execution_count": 18,
     "metadata": {},
     "output_type": "execute_result"
    }
   ],
   "source": [
    "test.panel"
   ]
  },
  {
   "cell_type": "code",
   "execution_count": 19,
   "metadata": {
    "collapsed": false
   },
   "outputs": [
    {
     "data": {
      "text/plain": [
       "[<hydropy.composition.Station at 0x22ae5f67240>,\n",
       " <hydropy.composition.Station at 0x22ae5ee97f0>]"
      ]
     },
     "execution_count": 19,
     "metadata": {},
     "output_type": "execute_result"
    }
   ],
   "source": [
    "test.station_list"
   ]
  },
  {
   "cell_type": "code",
   "execution_count": 20,
   "metadata": {
    "collapsed": false
   },
   "outputs": [
    {
     "data": {
      "text/plain": [
       "Index(['usgs01581500', 'usgs01585200'], dtype='object')"
      ]
     },
     "execution_count": 20,
     "metadata": {},
     "output_type": "execute_result"
    }
   ],
   "source": [
    "test.panel.items"
   ]
  },
  {
   "cell_type": "code",
   "execution_count": null,
   "metadata": {
    "collapsed": true
   },
   "outputs": [],
   "source": []
  },
  {
   "cell_type": "code",
   "execution_count": null,
   "metadata": {
    "collapsed": true
   },
   "outputs": [],
   "source": []
  }
 ],
 "metadata": {
  "anaconda-cloud": {},
  "kernelspec": {
   "display_name": "Python 3",
   "language": "python",
   "name": "python3"
  },
  "language_info": {
   "codemirror_mode": {
    "name": "ipython",
    "version": 3
   },
   "file_extension": ".py",
   "mimetype": "text/x-python",
   "name": "python",
   "nbconvert_exporter": "python",
   "pygments_lexer": "ipython3",
   "version": "3.5.2"
  }
 },
 "nbformat": 4,
 "nbformat_minor": 0
}
