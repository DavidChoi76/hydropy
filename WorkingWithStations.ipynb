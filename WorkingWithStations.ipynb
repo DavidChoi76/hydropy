{
 "cells": [
  {
   "cell_type": "code",
   "execution_count": 1,
   "metadata": {
    "collapsed": false
   },
   "outputs": [],
   "source": [
    "import numpy as np\n",
    "import pandas as pd\n",
    "import hydropy as hp"
   ]
  },
  {
   "cell_type": "code",
   "execution_count": 2,
   "metadata": {
    "collapsed": false
   },
   "outputs": [
    {
     "name": "stdout",
     "output_type": "stream",
     "text": [
      "Not able to interpret the time serie frequency,                      run the frequency_change to define the frequency!\n"
     ]
    }
   ],
   "source": [
    "HerringRun = hp.Station('usgs01585200').fetch()"
   ]
  },
  {
   "cell_type": "code",
   "execution_count": 3,
   "metadata": {
    "collapsed": false
   },
   "outputs": [
    {
     "name": "stdout",
     "output_type": "stream",
     "text": [
      "<hydropy.composition.Station object at 0x000002A2AEA7B898>\n"
     ]
    }
   ],
   "source": [
    "print(HerringRun)"
   ]
  },
  {
   "cell_type": "code",
   "execution_count": 4,
   "metadata": {
    "collapsed": false
   },
   "outputs": [
    {
     "data": {
      "text/plain": [
       "Data columns value, \n",
       " ranging from 00:00:00 17/10/2016 until 00:00:00 17/10/2016\n",
       " with only one value."
      ]
     },
     "execution_count": 4,
     "metadata": {},
     "output_type": "execute_result"
    }
   ],
   "source": [
    "HerringRun.data"
   ]
  },
  {
   "cell_type": "code",
   "execution_count": 5,
   "metadata": {
    "collapsed": false
   },
   "outputs": [
    {
     "data": {
      "text/html": [
       "<div>\n",
       "<table border=\"1\" class=\"dataframe\">\n",
       "  <thead>\n",
       "    <tr style=\"text-align: right;\">\n",
       "      <th></th>\n",
       "      <th>value</th>\n",
       "      <th>season</th>\n",
       "    </tr>\n",
       "    <tr>\n",
       "      <th>datetime</th>\n",
       "      <th></th>\n",
       "      <th></th>\n",
       "    </tr>\n",
       "  </thead>\n",
       "  <tbody>\n",
       "    <tr>\n",
       "      <th>2016-10-17</th>\n",
       "      <td>0.29</td>\n",
       "      <td>Autumn</td>\n",
       "    </tr>\n",
       "  </tbody>\n",
       "</table>\n",
       "</div>"
      ],
      "text/plain": [
       "            value  season\n",
       "datetime                 \n",
       "2016-10-17   0.29  Autumn"
      ]
     },
     "execution_count": 5,
     "metadata": {},
     "output_type": "execute_result"
    }
   ],
   "source": [
    "HerringRun.dailymean.tail()"
   ]
  },
  {
   "cell_type": "code",
   "execution_count": 6,
   "metadata": {
    "collapsed": false
   },
   "outputs": [],
   "source": [
    "HR = hp.Station('usgs01585200').fetch(start='2011-06-01', end='2011-06-10')"
   ]
  },
  {
   "cell_type": "code",
   "execution_count": 7,
   "metadata": {
    "collapsed": false
   },
   "outputs": [
    {
     "data": {
      "text/plain": [
       "Data columns value, \n",
       " ranging from 00:00:00 01/06/2011 until 00:00:00 10/06/2011\n",
       " with frequency D"
      ]
     },
     "execution_count": 7,
     "metadata": {},
     "output_type": "execute_result"
    }
   ],
   "source": [
    "HR.data"
   ]
  },
  {
   "cell_type": "code",
   "execution_count": 8,
   "metadata": {
    "collapsed": false
   },
   "outputs": [
    {
     "data": {
      "text/plain": [
       "<hydropy.composition.Station at 0x2a2b0d68780>"
      ]
     },
     "execution_count": 8,
     "metadata": {},
     "output_type": "execute_result"
    }
   ],
   "source": [
    "HR"
   ]
  },
  {
   "cell_type": "code",
   "execution_count": 9,
   "metadata": {
    "collapsed": false
   },
   "outputs": [],
   "source": [
    "joe = hp.Station('fake')"
   ]
  },
  {
   "cell_type": "code",
   "execution_count": 10,
   "metadata": {
    "collapsed": false
   },
   "outputs": [
    {
     "name": "stdout",
     "output_type": "stream",
     "text": [
      "<hydropy.composition.Station object at 0x000002A2B0D68748>\n"
     ]
    }
   ],
   "source": [
    "print(joe)"
   ]
  },
  {
   "cell_type": "code",
   "execution_count": 11,
   "metadata": {
    "collapsed": false
   },
   "outputs": [
    {
     "data": {
      "text/plain": [
       "<hydropy.composition.Station at 0x2a2b0d68748>"
      ]
     },
     "execution_count": 11,
     "metadata": {},
     "output_type": "execute_result"
    }
   ],
   "source": [
    "joe"
   ]
  },
  {
   "cell_type": "code",
   "execution_count": 12,
   "metadata": {
    "collapsed": false
   },
   "outputs": [
    {
     "data": {
      "text/plain": [
       "<hydropy.composition.Station at 0x2a2aea7b898>"
      ]
     },
     "execution_count": 12,
     "metadata": {},
     "output_type": "execute_result"
    }
   ],
   "source": [
    "HerringRun"
   ]
  },
  {
   "cell_type": "code",
   "execution_count": 13,
   "metadata": {
    "collapsed": false
   },
   "outputs": [
    {
     "name": "stdout",
     "output_type": "stream",
     "text": [
      "<hydropy.composition.Station object at 0x000002A2AEA7B898>\n"
     ]
    }
   ],
   "source": [
    "print(HerringRun)"
   ]
  },
  {
   "cell_type": "code",
   "execution_count": 14,
   "metadata": {
    "collapsed": false
   },
   "outputs": [],
   "source": [
    "import pandas as pd\n",
    "import numpy as np\n",
    "newDF = pd.DataFrame(np.random.randn(10, 5))"
   ]
  },
  {
   "cell_type": "code",
   "execution_count": 15,
   "metadata": {
    "collapsed": false
   },
   "outputs": [
    {
     "data": {
      "text/html": [
       "<div>\n",
       "<table border=\"1\" class=\"dataframe\">\n",
       "  <thead>\n",
       "    <tr style=\"text-align: right;\">\n",
       "      <th></th>\n",
       "      <th>0</th>\n",
       "      <th>1</th>\n",
       "      <th>2</th>\n",
       "      <th>3</th>\n",
       "      <th>4</th>\n",
       "    </tr>\n",
       "  </thead>\n",
       "  <tbody>\n",
       "    <tr>\n",
       "      <th>0</th>\n",
       "      <td>0.088350</td>\n",
       "      <td>-0.512392</td>\n",
       "      <td>-2.255294</td>\n",
       "      <td>-2.775037</td>\n",
       "      <td>0.560032</td>\n",
       "    </tr>\n",
       "    <tr>\n",
       "      <th>1</th>\n",
       "      <td>-1.294561</td>\n",
       "      <td>-0.335174</td>\n",
       "      <td>-0.985803</td>\n",
       "      <td>-0.778405</td>\n",
       "      <td>0.479038</td>\n",
       "    </tr>\n",
       "    <tr>\n",
       "      <th>2</th>\n",
       "      <td>2.220679</td>\n",
       "      <td>-0.022580</td>\n",
       "      <td>-0.974480</td>\n",
       "      <td>-0.004585</td>\n",
       "      <td>-0.275424</td>\n",
       "    </tr>\n",
       "    <tr>\n",
       "      <th>3</th>\n",
       "      <td>0.311842</td>\n",
       "      <td>0.188518</td>\n",
       "      <td>0.306042</td>\n",
       "      <td>0.467024</td>\n",
       "      <td>-0.137541</td>\n",
       "    </tr>\n",
       "    <tr>\n",
       "      <th>4</th>\n",
       "      <td>-1.084006</td>\n",
       "      <td>1.385083</td>\n",
       "      <td>-0.705447</td>\n",
       "      <td>1.033201</td>\n",
       "      <td>-1.480627</td>\n",
       "    </tr>\n",
       "    <tr>\n",
       "      <th>5</th>\n",
       "      <td>0.361931</td>\n",
       "      <td>0.595745</td>\n",
       "      <td>-1.985786</td>\n",
       "      <td>1.318180</td>\n",
       "      <td>-0.082599</td>\n",
       "    </tr>\n",
       "    <tr>\n",
       "      <th>6</th>\n",
       "      <td>0.861726</td>\n",
       "      <td>0.065210</td>\n",
       "      <td>-0.218367</td>\n",
       "      <td>-0.354005</td>\n",
       "      <td>-0.976902</td>\n",
       "    </tr>\n",
       "    <tr>\n",
       "      <th>7</th>\n",
       "      <td>0.670583</td>\n",
       "      <td>0.937579</td>\n",
       "      <td>0.356436</td>\n",
       "      <td>-3.069652</td>\n",
       "      <td>0.298883</td>\n",
       "    </tr>\n",
       "    <tr>\n",
       "      <th>8</th>\n",
       "      <td>-1.071122</td>\n",
       "      <td>-0.300101</td>\n",
       "      <td>-0.635703</td>\n",
       "      <td>-0.495929</td>\n",
       "      <td>-0.937820</td>\n",
       "    </tr>\n",
       "    <tr>\n",
       "      <th>9</th>\n",
       "      <td>0.023261</td>\n",
       "      <td>0.044477</td>\n",
       "      <td>0.800388</td>\n",
       "      <td>-0.507732</td>\n",
       "      <td>0.695491</td>\n",
       "    </tr>\n",
       "  </tbody>\n",
       "</table>\n",
       "</div>"
      ],
      "text/plain": [
       "          0         1         2         3         4\n",
       "0  0.088350 -0.512392 -2.255294 -2.775037  0.560032\n",
       "1 -1.294561 -0.335174 -0.985803 -0.778405  0.479038\n",
       "2  2.220679 -0.022580 -0.974480 -0.004585 -0.275424\n",
       "3  0.311842  0.188518  0.306042  0.467024 -0.137541\n",
       "4 -1.084006  1.385083 -0.705447  1.033201 -1.480627\n",
       "5  0.361931  0.595745 -1.985786  1.318180 -0.082599\n",
       "6  0.861726  0.065210 -0.218367 -0.354005 -0.976902\n",
       "7  0.670583  0.937579  0.356436 -3.069652  0.298883\n",
       "8 -1.071122 -0.300101 -0.635703 -0.495929 -0.937820\n",
       "9  0.023261  0.044477  0.800388 -0.507732  0.695491"
      ]
     },
     "execution_count": 15,
     "metadata": {},
     "output_type": "execute_result"
    }
   ],
   "source": [
    "newDF"
   ]
  },
  {
   "cell_type": "code",
   "execution_count": 16,
   "metadata": {
    "collapsed": false
   },
   "outputs": [
    {
     "name": "stdout",
     "output_type": "stream",
     "text": [
      "Not able to interpret the time serie frequency,                      run the frequency_change to define the frequency!\n",
      "Not able to interpret the time serie frequency,                      run the frequency_change to define the frequency!\n"
     ]
    }
   ],
   "source": [
    "test = hp.Analysis(['usgs01585200', 'usgs01581500'], source='usgs-dv')"
   ]
  },
  {
   "cell_type": "code",
   "execution_count": null,
   "metadata": {
    "collapsed": true
   },
   "outputs": [],
   "source": []
  },
  {
   "cell_type": "code",
   "execution_count": 17,
   "metadata": {
    "collapsed": false
   },
   "outputs": [
    {
     "data": {
      "text/plain": [
       "<hydropy.composition.Analysis at 0x2a2b0d8ba20>"
      ]
     },
     "execution_count": 17,
     "metadata": {},
     "output_type": "execute_result"
    }
   ],
   "source": [
    "test"
   ]
  },
  {
   "cell_type": "code",
   "execution_count": 18,
   "metadata": {
    "collapsed": false
   },
   "outputs": [
    {
     "data": {
      "text/plain": [
       "<class 'pandas.core.panel.Panel'>\n",
       "Dimensions: 2 (items) x 1 (major_axis) x 2 (minor_axis)\n",
       "Items axis: usgs01581500 to usgs01585200\n",
       "Major_axis axis: 2016-10-17 00:00:00 to 2016-10-17 00:00:00\n",
       "Minor_axis axis: value to season"
      ]
     },
     "execution_count": 18,
     "metadata": {},
     "output_type": "execute_result"
    }
   ],
   "source": [
    "test.panel"
   ]
  },
  {
   "cell_type": "code",
   "execution_count": 19,
   "metadata": {
    "collapsed": false
   },
   "outputs": [
    {
     "data": {
      "text/plain": [
       "[<hydropy.composition.Station at 0x2a2b0e0c048>,\n",
       " <hydropy.composition.Station at 0x2a2b0e0c2b0>]"
      ]
     },
     "execution_count": 19,
     "metadata": {},
     "output_type": "execute_result"
    }
   ],
   "source": [
    "test.station_list"
   ]
  },
  {
   "cell_type": "code",
   "execution_count": 20,
   "metadata": {
    "collapsed": false
   },
   "outputs": [
    {
     "data": {
      "text/plain": [
       "Index(['usgs01581500', 'usgs01585200'], dtype='object')"
      ]
     },
     "execution_count": 20,
     "metadata": {},
     "output_type": "execute_result"
    }
   ],
   "source": [
    "test.panel.items"
   ]
  },
  {
   "cell_type": "code",
   "execution_count": null,
   "metadata": {
    "collapsed": true
   },
   "outputs": [],
   "source": []
  },
  {
   "cell_type": "code",
   "execution_count": null,
   "metadata": {
    "collapsed": true
   },
   "outputs": [],
   "source": []
  }
 ],
 "metadata": {
  "anaconda-cloud": {},
  "kernelspec": {
   "display_name": "Python 3",
   "language": "python",
   "name": "python3"
  },
  "language_info": {
   "codemirror_mode": {
    "name": "ipython",
    "version": 3
   },
   "file_extension": ".py",
   "mimetype": "text/x-python",
   "name": "python",
   "nbconvert_exporter": "python",
   "pygments_lexer": "ipython3",
   "version": "3.5.2"
  }
 },
 "nbformat": 4,
 "nbformat_minor": 0
}
