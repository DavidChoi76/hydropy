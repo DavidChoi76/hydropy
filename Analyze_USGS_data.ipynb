{
 "cells": [
  {
   "cell_type": "markdown",
   "metadata": {},
   "source": [
    "# Quick Start with HydroPy!"
   ]
  },
  {
   "cell_type": "code",
   "execution_count": 1,
   "metadata": {
    "collapsed": true
   },
   "outputs": [],
   "source": [
    "# Import the libraries that we'll be using\n",
    "import numpy as np\n",
    "import pandas as pd\n",
    "import hydropy as hp\n",
    "\n",
    "# Set the notebook to plot graphs in the output cells.\n",
    "%matplotlib inline"
   ]
  },
  {
   "cell_type": "markdown",
   "metadata": {},
   "source": [
    "## Load USGS data into a dataframe "
   ]
  },
  {
   "cell_type": "code",
   "execution_count": 2,
   "metadata": {
    "collapsed": false
   },
   "outputs": [
    {
     "data": {
      "text/html": [
       "<iframe src=http://hydrocloud.org/ width=700 height=400></iframe>"
      ],
      "text/plain": [
       "<IPython.core.display.HTML object>"
      ]
     },
     "execution_count": 2,
     "metadata": {},
     "output_type": "execute_result"
    }
   ],
   "source": [
    "# Use HydroCloud.org to find a stream gauge to investigate.\n",
    "# Click on the red points to find the site number.\n",
    "from IPython.display import HTML\n",
    "HTML('<iframe src=http://hydrocloud.org/ width=700 height=400></iframe>')"
   ]
  },
  {
   "cell_type": "code",
   "execution_count": 45,
   "metadata": {
    "collapsed": false
   },
   "outputs": [
    {
     "data": {
      "text/html": [
       "<div>\n",
       "<table border=\"1\" class=\"dataframe\">\n",
       "  <thead>\n",
       "    <tr style=\"text-align: right;\">\n",
       "      <th></th>\n",
       "      <th>value</th>\n",
       "    </tr>\n",
       "    <tr>\n",
       "      <th>datetime</th>\n",
       "      <th></th>\n",
       "    </tr>\n",
       "  </thead>\n",
       "  <tbody>\n",
       "    <tr>\n",
       "      <th>2011-01-01</th>\n",
       "      <td>0.73</td>\n",
       "    </tr>\n",
       "    <tr>\n",
       "      <th>2011-01-02</th>\n",
       "      <td>0.89</td>\n",
       "    </tr>\n",
       "    <tr>\n",
       "      <th>2011-01-03</th>\n",
       "      <td>0.73</td>\n",
       "    </tr>\n",
       "    <tr>\n",
       "      <th>2011-01-04</th>\n",
       "      <td>0.72</td>\n",
       "    </tr>\n",
       "    <tr>\n",
       "      <th>2011-01-05</th>\n",
       "      <td>0.71</td>\n",
       "    </tr>\n",
       "  </tbody>\n",
       "</table>\n",
       "</div>"
      ],
      "text/plain": [
       "            value\n",
       "datetime         \n",
       "2011-01-01   0.73\n",
       "2011-01-02   0.89\n",
       "2011-01-03   0.73\n",
       "2011-01-04   0.72\n",
       "2011-01-05   0.71"
      ]
     },
     "execution_count": 45,
     "metadata": {},
     "output_type": "execute_result"
    }
   ],
   "source": [
    "# Create a Pandas dataframe using the USGS daily discharge for Herring Run.\n",
    "herring = hp.get_usgs('01585200', 'dv', '2011-01-01', '2016-01-01')\n",
    "\n",
    "# List the first few values from the top of the dataframe.\n",
    "herring.head()"
   ]
  },
  {
   "cell_type": "code",
   "execution_count": 46,
   "metadata": {
    "collapsed": false
   },
   "outputs": [
    {
     "data": {
      "text/html": [
       "<div>\n",
       "<table border=\"1\" class=\"dataframe\">\n",
       "  <thead>\n",
       "    <tr style=\"text-align: right;\">\n",
       "      <th></th>\n",
       "      <th>value</th>\n",
       "    </tr>\n",
       "  </thead>\n",
       "  <tbody>\n",
       "    <tr>\n",
       "      <th>count</th>\n",
       "      <td>1827.000000</td>\n",
       "    </tr>\n",
       "    <tr>\n",
       "      <th>mean</th>\n",
       "      <td>3.670432</td>\n",
       "    </tr>\n",
       "    <tr>\n",
       "      <th>std</th>\n",
       "      <td>10.723327</td>\n",
       "    </tr>\n",
       "    <tr>\n",
       "      <th>min</th>\n",
       "      <td>0.070000</td>\n",
       "    </tr>\n",
       "    <tr>\n",
       "      <th>25%</th>\n",
       "      <td>0.720000</td>\n",
       "    </tr>\n",
       "    <tr>\n",
       "      <th>50%</th>\n",
       "      <td>1.200000</td>\n",
       "    </tr>\n",
       "    <tr>\n",
       "      <th>75%</th>\n",
       "      <td>2.200000</td>\n",
       "    </tr>\n",
       "    <tr>\n",
       "      <th>max</th>\n",
       "      <td>179.000000</td>\n",
       "    </tr>\n",
       "  </tbody>\n",
       "</table>\n",
       "</div>"
      ],
      "text/plain": [
       "             value\n",
       "count  1827.000000\n",
       "mean      3.670432\n",
       "std      10.723327\n",
       "min       0.070000\n",
       "25%       0.720000\n",
       "50%       1.200000\n",
       "75%       2.200000\n",
       "max     179.000000"
      ]
     },
     "execution_count": 46,
     "metadata": {},
     "output_type": "execute_result"
    }
   ],
   "source": [
    "# Calculate some basic statistics for the dataframe.\n",
    "herring.describe()"
   ]
  },
  {
   "cell_type": "code",
   "execution_count": 47,
   "metadata": {
    "collapsed": false
   },
   "outputs": [
    {
     "data": {
      "text/plain": [
       "<matplotlib.axes._subplots.AxesSubplot at 0x1e0da53f748>"
      ]
     },
     "execution_count": 47,
     "metadata": {},
     "output_type": "execute_result"
    },
    {
     "data": {
      "image/png": "[encoded data removed]",
      "text/plain": [
       "<matplotlib.figure.Figure at 0x1e0da58e2e8>"
      ]
     },
     "metadata": {},
     "output_type": "display_data"
    }
   ],
   "source": [
    "# For more advanced analysis, use the HydroAnalysis class.\n",
    "my_analysis = hp.HydroAnalysis(herring)\n",
    "\n",
    "# Plot discharge on a logarithmic scale for the Y axis.\n",
    "my_analysis.plot(figsize=(16,6), logy=True)"
   ]
  },
  {
   "cell_type": "code",
   "execution_count": null,
   "metadata": {
    "collapsed": true
   },
   "outputs": [],
   "source": [
    "## Finding Help"
   ]
  },
  {
   "cell_type": "code",
   "execution_count": 3,
   "metadata": {
    "collapsed": false
   },
   "outputs": [
    {
     "name": "stdout",
     "output_type": "stream",
     "text": [
      "Help on function get_usgs in module hydropy.reading_third_party_data:\n",
      "\n",
      "get_usgs(site, service, start_date, end_date)\n",
      "    Request stream gauge data from the USGS NWIS.\n",
      "    \n",
      "    Args:\n",
      "        site (str):\n",
      "            a valid site is 01585200\n",
      "        service (str):\n",
      "            can either be 'iv' or 'dv' for instantaneous or daily data.\n",
      "            iv data are instantaneous values usually recorded every 15 minutes;\n",
      "                units are expressed as cubic feet/second.\n",
      "            dv data are daily mean discharges expressed as cubic feet/second.\n",
      "        start_date (str):\n",
      "           should take on the form yyyy-mm-dd\n",
      "        end_date (str):\n",
      "            should take on the form yyyy-mm-dd\n",
      "    \n",
      "    Returns:\n",
      "        A Pandas dataframe object.\n",
      "    \n",
      "    Raises:\n",
      "        ConnectionError  due to connection problems like refused connection\n",
      "            or DNS Error.\n",
      "        HydroNoDataError  when the request is valid, but NWIS has no data for\n",
      "            the parameters provided in the request.\n",
      "    \n",
      "    Example::\n",
      "    \n",
      "        >>> from hydropy import hydropy as hp\n",
      "        >>> my_df = hp.get_usgs('01585200', 'dv', '2012-06-01', '2012-06-05')\n",
      "        \n",
      "        >>> my_df\n",
      "                    value\n",
      "        datetime         \n",
      "        2012-06-01  97.00\n",
      "        2012-06-02   5.80\n",
      "        2012-06-03   1.70\n",
      "        2012-06-04   1.40\n",
      "        2012-06-05   0.96\n",
      "\n"
     ]
    }
   ],
   "source": [
    "# Use help() to learn more about a particular function.\n",
    "help(hp.get_usgs)"
   ]
  },
  {
   "cell_type": "markdown",
   "metadata": {},
   "source": [
    "# Learn More!"
   ]
  },
  {
   "cell_type": "markdown",
   "metadata": {},
   "source": [
    "To learn more about hydropy, read the [documentation](http://readthedocs.org/projects/hydropy/), visit us on [github](https://github.com/stijnvanhoey/hydropy), or try out more notebooks!"
   ]
  },
  {
   "cell_type": "code",
   "execution_count": 25,
   "metadata": {
    "collapsed": false
   },
   "outputs": [
    {
     "data": {
      "text/plain": [
       "<matplotlib.axes._subplots.AxesSubplot at 0x230df821438>"
      ]
     },
     "execution_count": 25,
     "metadata": {},
     "output_type": "execute_result"
    },
    {
     "data": {
      "image/png": "[encoded data removed]",
      "text/plain": [
       "<matplotlib.figure.Figure at 0x230df715710>"
      ]
     },
     "metadata": {},
     "output_type": "display_data"
    }
   ],
   "source": [
    "import matplotlib.pyplot as plt\n",
    "fig, ax = plt.subplots(figsize=(13, 6))\n",
    "my_analysis.plot(ax=ax)\n",
    "my_analysis.get_highpeaks(150, above_percentile=0.9).plot(style='o', ax=ax)"
   ]
  },
  {
   "cell_type": "code",
   "execution_count": 38,
   "metadata": {
    "collapsed": false
   },
   "outputs": [
    {
     "data": {
      "text/html": [
       "<div>\n",
       "<table border=\"1\" class=\"dataframe\">\n",
       "  <thead>\n",
       "    <tr style=\"text-align: right;\">\n",
       "      <th></th>\n",
       "      <th>value</th>\n",
       "    </tr>\n",
       "    <tr>\n",
       "      <th>season</th>\n",
       "      <th></th>\n",
       "    </tr>\n",
       "  </thead>\n",
       "  <tbody>\n",
       "    <tr>\n",
       "      <th>Autumn</th>\n",
       "      <td>3.559911</td>\n",
       "    </tr>\n",
       "    <tr>\n",
       "      <th>Spring</th>\n",
       "      <td>3.806152</td>\n",
       "    </tr>\n",
       "    <tr>\n",
       "      <th>Summer</th>\n",
       "      <td>4.339484</td>\n",
       "    </tr>\n",
       "    <tr>\n",
       "      <th>Winter</th>\n",
       "      <td>2.954049</td>\n",
       "    </tr>\n",
       "  </tbody>\n",
       "</table>\n",
       "</div>"
      ],
      "text/plain": [
       "           value\n",
       "season          \n",
       "Autumn  3.559911\n",
       "Spring  3.806152\n",
       "Summer  4.339484\n",
       "Winter  2.954049"
      ]
     },
     "execution_count": 38,
     "metadata": {},
     "output_type": "execute_result"
    }
   ],
   "source": [
    "my_analysis.data.groupby('season').mean()"
   ]
  },
  {
   "cell_type": "code",
   "execution_count": 39,
   "metadata": {
    "collapsed": false
   },
   "outputs": [
    {
     "data": {
      "text/html": [
       "<div>\n",
       "<table border=\"1\" class=\"dataframe\">\n",
       "  <thead>\n",
       "    <tr style=\"text-align: right;\">\n",
       "      <th></th>\n",
       "      <th>value</th>\n",
       "    </tr>\n",
       "  </thead>\n",
       "  <tbody>\n",
       "    <tr>\n",
       "      <th>count</th>\n",
       "      <td>1827.000000</td>\n",
       "    </tr>\n",
       "    <tr>\n",
       "      <th>mean</th>\n",
       "      <td>3.670432</td>\n",
       "    </tr>\n",
       "    <tr>\n",
       "      <th>std</th>\n",
       "      <td>10.723327</td>\n",
       "    </tr>\n",
       "    <tr>\n",
       "      <th>min</th>\n",
       "      <td>0.070000</td>\n",
       "    </tr>\n",
       "    <tr>\n",
       "      <th>25%</th>\n",
       "      <td>0.720000</td>\n",
       "    </tr>\n",
       "    <tr>\n",
       "      <th>50%</th>\n",
       "      <td>1.200000</td>\n",
       "    </tr>\n",
       "    <tr>\n",
       "      <th>75%</th>\n",
       "      <td>2.200000</td>\n",
       "    </tr>\n",
       "    <tr>\n",
       "      <th>max</th>\n",
       "      <td>179.000000</td>\n",
       "    </tr>\n",
       "  </tbody>\n",
       "</table>\n",
       "</div>"
      ],
      "text/plain": [
       "             value\n",
       "count  1827.000000\n",
       "mean      3.670432\n",
       "std      10.723327\n",
       "min       0.070000\n",
       "25%       0.720000\n",
       "50%       1.200000\n",
       "75%       2.200000\n",
       "max     179.000000"
      ]
     },
     "execution_count": 39,
     "metadata": {},
     "output_type": "execute_result"
    }
   ],
   "source": [
    "my_analysis.summary()"
   ]
  },
  {
   "cell_type": "code",
   "execution_count": 40,
   "metadata": {
    "collapsed": false
   },
   "outputs": [
    {
     "name": "stdout",
     "output_type": "stream",
     "text": [
      "Help on method get_highpeaks in module hydropy.flowanalysis:\n",
      "\n",
      "get_highpeaks(min_distance, above_percentile=0.0) method of hydropy.flowanalysis.HydroAnalysis instance\n",
      "    Select peak discharges from the time serie, using the\n",
      "    scipy.argrelmax algorithm.\n",
      "    This can be above a certain percentile value defined with\n",
      "    above_percentile.\n",
      "    \n",
      "    Parameters\n",
      "    -----------\n",
      "    min_distance : int\n",
      "        distance to use for comparison of a peak\n",
      "    above_percentile : float [0-1]\n",
      "        only peaks above the given percentile will be selected\n",
      "    \n",
      "    #TODO: clean output choice=> not in freq, just short list\n",
      "    # This is still 1D!\n",
      "    # or maybe use find_peaks_cwt\n",
      "\n"
     ]
    }
   ],
   "source": [
    "help(analysis.get_highpeaks)"
   ]
  },
  {
   "cell_type": "code",
   "execution_count": 30,
   "metadata": {
    "collapsed": false
   },
   "outputs": [
    {
     "data": {
      "text/plain": [
       "['__class__',\n",
       " '__delattr__',\n",
       " '__dict__',\n",
       " '__dir__',\n",
       " '__doc__',\n",
       " '__eq__',\n",
       " '__format__',\n",
       " '__ge__',\n",
       " '__getattribute__',\n",
       " '__getitem__',\n",
       " '__gt__',\n",
       " '__hash__',\n",
       " '__init__',\n",
       " '__le__',\n",
       " '__lt__',\n",
       " '__module__',\n",
       " '__ne__',\n",
       " '__new__',\n",
       " '__reduce__',\n",
       " '__reduce_ex__',\n",
       " '__repr__',\n",
       " '__setattr__',\n",
       " '__setitem__',\n",
       " '__sizeof__',\n",
       " '__str__',\n",
       " '__subclasshook__',\n",
       " '__weakref__',\n",
       " '_check_date_range',\n",
       " '_control_extra_serie',\n",
       " '_data_cols',\n",
       " '_end_date',\n",
       " '_existing_month',\n",
       " '_frequency',\n",
       " '_get_above_baseflow',\n",
       " '_get_modes_wagener',\n",
       " '_getridof_double_peaks',\n",
       " '_hemisphere',\n",
       " '_mask_seasons',\n",
       " '_pass_freq',\n",
       " '_season_type',\n",
       " '_start_date',\n",
       " '_years',\n",
       " 'current_date_range',\n",
       " 'current_season_dates',\n",
       " 'data',\n",
       " 'derive_storms',\n",
       " 'frequency_change',\n",
       " 'frequency_resample',\n",
       " 'from_txtdata_only',\n",
       " 'from_vmm_txt',\n",
       " 'get_above_percentile',\n",
       " 'get_below_percentile',\n",
       " 'get_climbing',\n",
       " 'get_data_only',\n",
       " 'get_date_range',\n",
       " 'get_highpeaks',\n",
       " 'get_lowpeaks',\n",
       " 'get_month',\n",
       " 'get_recess',\n",
       " 'get_season',\n",
       " 'get_year',\n",
       " 'head',\n",
       " 'info_season_dates',\n",
       " 'plot',\n",
       " 'quantile',\n",
       " 'season_dates',\n",
       " 'summary',\n",
       " 'tail']"
      ]
     },
     "execution_count": 30,
     "metadata": {},
     "output_type": "execute_result"
    }
   ],
   "source": [
    "dir(analysis)"
   ]
  }
 ],
 "metadata": {
  "kernelspec": {
   "display_name": "Python 3",
   "language": "python",
   "name": "python3"
  },
  "language_info": {
   "codemirror_mode": {
    "name": "ipython",
    "version": 3
   },
   "file_extension": ".py",
   "mimetype": "text/x-python",
   "name": "python",
   "nbconvert_exporter": "python",
   "pygments_lexer": "ipython3",
   "version": "3.5.2"
  }
 },
 "nbformat": 4,
 "nbformat_minor": 0
}
